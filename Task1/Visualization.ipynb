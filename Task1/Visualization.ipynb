{
 "cells": [
  {
   "cell_type": "code",
   "execution_count": 2,
   "metadata": {},
   "outputs": [],
   "source": [
    "import pandas as pd\n",
    "import ipywidgets as widgets\n",
    "import numpy as np\n",
    "import pathlib\n",
    "import matplotlib.pyplot as plt\n",
    "import datetime"
   ]
  },
  {
   "cell_type": "code",
   "execution_count": 3,
   "metadata": {},
   "outputs": [],
   "source": [
    "PATH = pathlib.Path(\"./data\")\n",
    "data = pd.read_csv(PATH / \"prepared_data.csv\")\n",
    "data[\"Date\"] = pd.to_datetime(data[\"Date\"])\n",
    "data.index = data[\"Date\"]\n",
    "data.index.name = \"DateIndex\""
   ]
  },
  {
   "cell_type": "code",
   "execution_count": 4,
   "metadata": {},
   "outputs": [
    {
     "data": {
      "text/plain": [
       "True"
      ]
     },
     "execution_count": 4,
     "metadata": {},
     "output_type": "execute_result"
    }
   ],
   "source": [
    "((data[\"Date\"] + pd.DateOffset(1) - data[\"Date\"]) == pd.Timedelta(\"1 days\")).all()"
   ]
  },
  {
   "cell_type": "code",
   "execution_count": 20,
   "metadata": {},
   "outputs": [
    {
     "data": {
      "text/plain": [
       "False"
      ]
     },
     "execution_count": 20,
     "metadata": {},
     "output_type": "execute_result"
    }
   ],
   "source": [
    "(pd.to_datetime(\"2020-05-18\") - pd.to_datetime(\"2020-05-20\")).total_seconds() > 0"
   ]
  },
  {
   "cell_type": "code",
   "execution_count": 5,
   "metadata": {},
   "outputs": [
    {
     "data": {
      "text/plain": [
       "<DatetimeArray>\n",
       "['2016-06-01 00:00:00', '2016-07-01 00:00:00', '2016-08-01 00:00:00',\n",
       " '2016-09-01 00:00:00', '2016-10-01 00:00:00', '2016-11-01 00:00:00',\n",
       " '2016-12-01 00:00:00', '2017-01-01 00:00:00', '2017-02-01 00:00:00',\n",
       " '2017-03-01 00:00:00', '2017-04-01 00:00:00', '2017-05-01 00:00:00',\n",
       " '2017-06-01 00:00:00', '2017-07-01 00:00:00', '2017-08-01 00:00:00',\n",
       " '2017-09-01 00:00:00', '2017-10-01 00:00:00', '2017-11-01 00:00:00',\n",
       " '2017-12-01 00:00:00', '2018-01-01 00:00:00', '2018-02-01 00:00:00',\n",
       " '2018-03-01 00:00:00', '2018-04-01 00:00:00', '2018-05-01 00:00:00',\n",
       " '2018-06-01 00:00:00', '2018-07-01 00:00:00', '2018-08-01 00:00:00',\n",
       " '2018-09-01 00:00:00', '2018-10-01 00:00:00', '2018-11-01 00:00:00',\n",
       " '2018-12-01 00:00:00', '2019-01-01 00:00:00', '2019-02-01 00:00:00',\n",
       " '2019-03-01 00:00:00', '2019-04-01 00:00:00', '2019-05-01 00:00:00',\n",
       " '2019-06-01 00:00:00', '2019-07-01 00:00:00', '2019-08-01 00:00:00',\n",
       " '2019-09-01 00:00:00', '2019-10-01 00:00:00', '2019-11-01 00:00:00',\n",
       " '2019-12-01 00:00:00', '2020-01-01 00:00:00', '2020-02-01 00:00:00',\n",
       " '2020-03-01 00:00:00', '2020-04-01 00:00:00', '2020-05-01 00:00:00',\n",
       " '2020-06-01 00:00:00', '2020-07-01 00:00:00']\n",
       "Length: 50, dtype: datetime64[ns]"
      ]
     },
     "execution_count": 5,
     "metadata": {},
     "output_type": "execute_result"
    }
   ],
   "source": [
    "(data[\"Date\"].dt.to_period('M').unique().to_timestamp())"
   ]
  },
  {
   "cell_type": "code",
   "execution_count": 21,
   "metadata": {},
   "outputs": [
    {
     "ename": "NameError",
     "evalue": "name 'self' is not defined",
     "output_type": "error",
     "traceback": [
      "\u001b[0;31m---------------------------------------------------------------------------\u001b[0m",
      "\u001b[0;31mNameError\u001b[0m                                 Traceback (most recent call last)",
      "Cell \u001b[0;32mIn[21], line 4\u001b[0m\n\u001b[1;32m      2\u001b[0m get_ipython()\u001b[38;5;241m.\u001b[39mrun_line_magic(\u001b[38;5;124m'\u001b[39m\u001b[38;5;124mmatplotlib\u001b[39m\u001b[38;5;124m'\u001b[39m, \u001b[38;5;124m'\u001b[39m\u001b[38;5;124mwidget\u001b[39m\u001b[38;5;124m'\u001b[39m)\n\u001b[1;32m      3\u001b[0m plt\u001b[38;5;241m.\u001b[39mclose()\n\u001b[0;32m----> 4\u001b[0m \u001b[38;5;28;01mclass\u001b[39;00m \u001b[38;5;21;01mApp\u001b[39;00m:\n\u001b[1;32m      5\u001b[0m     \u001b[38;5;28;01mdef\u001b[39;00m \u001b[38;5;21m__init__\u001b[39m(\u001b[38;5;28mself\u001b[39m, dataset):\n\u001b[1;32m      6\u001b[0m         \u001b[38;5;28mself\u001b[39m\u001b[38;5;241m.\u001b[39mdataset \u001b[38;5;241m=\u001b[39m dataset\n",
      "Cell \u001b[0;32mIn[21], line 57\u001b[0m, in \u001b[0;36mApp\u001b[0;34m()\u001b[0m\n\u001b[1;32m     54\u001b[0m         \u001b[38;5;28;01mreturn\u001b[39;00m wrapper\n\u001b[1;32m     55\u001b[0m     \u001b[38;5;28;01mreturn\u001b[39;00m inner\n\u001b[0;32m---> 57\u001b[0m \u001b[38;5;129m@check_valid_date_range\u001b[39m(\u001b[38;5;28;43mself\u001b[39;49m\u001b[38;5;241m.\u001b[39mw_date_to\u001b[38;5;241m.\u001b[39mvalue, \u001b[38;5;28mself\u001b[39m\u001b[38;5;241m.\u001b[39mw_date_to\u001b[38;5;241m.\u001b[39mvalue)\n\u001b[1;32m     58\u001b[0m \u001b[38;5;28;01mdef\u001b[39;00m \u001b[38;5;21mon_date_from_changed\u001b[39m(\u001b[38;5;28mself\u001b[39m, value):\n\u001b[1;32m     59\u001b[0m     date_range \u001b[38;5;241m=\u001b[39m \u001b[38;5;28mslice\u001b[39m(value[\u001b[38;5;124m\"\u001b[39m\u001b[38;5;124mnew\u001b[39m\u001b[38;5;124m\"\u001b[39m], \u001b[38;5;28mself\u001b[39m\u001b[38;5;241m.\u001b[39mw_date_to\u001b[38;5;241m.\u001b[39mvalue)\n\u001b[1;32m     60\u001b[0m     \u001b[38;5;28mself\u001b[39m\u001b[38;5;241m.\u001b[39mreplot_graph(date_range)\n",
      "\u001b[0;31mNameError\u001b[0m: name 'self' is not defined"
     ]
    }
   ],
   "source": [
    "%matplotlib inline\n",
    "%matplotlib widget\n",
    "plt.close()\n",
    "class App:\n",
    "    def __init__(self, dataset):\n",
    "        self.dataset = dataset\n",
    "        dates = self.dataset[\"Date\"].dt.to_period('M').unique().to_timestamp()\n",
    "        options = [(i.strftime('%y-%b'), i) for i in dates]\n",
    "        self.fig, self.ax = plt.subplots(1, 1)\n",
    "\n",
    "        self.w_output = widgets.Output()\n",
    "\n",
    "        self.w_date_from = widgets.DatePicker(description='From',\n",
    "                                            disabled=False,\n",
    "                                            value=dates[0],\n",
    "                                            continuous_update=False)        \n",
    "        self.w_date_to = widgets.DatePicker(description='To',\n",
    "                                          disabled=False,\n",
    "                                          value=dates[-1],\n",
    "                                          continuous_update=False)\n",
    "        \n",
    "        self.w_description = widgets.Label(value=\"Select date range from to\")\n",
    "        self.w_information_status = widgets.Label(value=\"\")\n",
    "        \n",
    "        self.w_date_slider = widgets.SelectionRangeSlider(\n",
    "            options=options,\n",
    "            description='2016-2020',\n",
    "            disabled=False,\n",
    "            continuous_update=False,\n",
    "            value=(dates[0], dates[-1])\n",
    "        )\n",
    "\n",
    "\n",
    "        self.w_run_button = widgets.Button(description='Plot graph',disabled=False)\n",
    "        self.w_run_button.on_click(self.on_button_clicked)\n",
    "\n",
    "        self.w_box = widgets.HBox([self.w_date_from, self.w_date_to])\n",
    "        self.wid = widgets.VBox([self.w_description, self.w_box, self.w_run_button, self.w_date_slider, self.w_information_status, self.w_output])\n",
    "\n",
    "        self.w_date_from.observe(self.on_date_from_changed, \"value\")\n",
    "        self.w_date_to.observe(self.on_date_to_changed, \"value\")\n",
    "        self.w_date_slider.observe(self.on_date_slider_changed, \"value\")\n",
    "\n",
    "    def check_valid_date_range(func):\n",
    "        def wrapper(**kwargs):\n",
    "            is_time_delta_positive = (date_to - date_from).total_seconds() > 0\n",
    "            if is_time_delta_positive:\n",
    "                self.w_information_status.value = \"\"\n",
    "                func(**kwargs)\n",
    "            else:\n",
    "                with self.w_output:\n",
    "                    self.w_information_status.value = \"Invalid date range\"\n",
    "        return wrapper\n",
    "\n",
    "    @check_valid_date_range\n",
    "    def on_date_from_changed(self, value):\n",
    "        date_range = slice(value[\"new\"], self.w_date_to.value)\n",
    "        self.replot_graph(date_range)\n",
    "\n",
    "    def on_date_to_changed(self, value):\n",
    "        date_range = slice(self.w_date_from.value, value[\"new\"])\n",
    "        self.replot_graph(date_range)\n",
    "\n",
    "    def on_date_slider_changed(self, value):\n",
    "        date_range = slice(value[\"new\"][0], value[\"new\"][-1])\n",
    "        self.replot_graph(date_range)\n",
    "\n",
    "    def on_button_clicked(self, button):\n",
    "        date_range = slice(self.w_date_slider.value[0], self.w_date_slider.value[-1])\n",
    "        self.replot_graph(date_range)\n",
    "\n",
    "    def replot_graph(self, date_slice, **kwargs):\n",
    "        with self.w_output:\n",
    "            self.ax.cla()\n",
    "            self.dataset.loc[date_slice].plot(y=\"Temp_avg\",\n",
    "                                              ylim=(10, 100),\n",
    "                                              ax=self.ax,\n",
    "                                              **kwargs)\n",
    "\n",
    "    def run(self):\n",
    "        return self.wid\n",
    "\n",
    "app = App(data)\n",
    "app.run()"
   ]
  },
  {
   "cell_type": "code",
   "execution_count": null,
   "metadata": {},
   "outputs": [],
   "source": []
  }
 ],
 "metadata": {
  "kernelspec": {
   "display_name": ".venv",
   "language": "python",
   "name": "python3"
  },
  "language_info": {
   "codemirror_mode": {
    "name": "ipython",
    "version": 3
   },
   "file_extension": ".py",
   "mimetype": "text/x-python",
   "name": "python",
   "nbconvert_exporter": "python",
   "pygments_lexer": "ipython3",
   "version": "3.10.12"
  }
 },
 "nbformat": 4,
 "nbformat_minor": 2
}
